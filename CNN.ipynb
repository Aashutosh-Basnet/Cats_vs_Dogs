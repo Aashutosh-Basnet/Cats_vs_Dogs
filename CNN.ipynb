{
  "nbformat": 4,
  "nbformat_minor": 0,
  "metadata": {
    "colab": {
      "provenance": [],
      "gpuType": "T4",
      "authorship_tag": "ABX9TyOdPZNgca1haIDnR2CYQIvp",
      "include_colab_link": true
    },
    "kernelspec": {
      "name": "python3",
      "display_name": "Python 3"
    },
    "language_info": {
      "name": "python"
    },
    "accelerator": "GPU"
  },
  "cells": [
    {
      "cell_type": "markdown",
      "metadata": {
        "id": "view-in-github",
        "colab_type": "text"
      },
      "source": [
        "<a href=\"https://colab.research.google.com/github/Aashutosh-Basnet/Cats_vs_Dogs/blob/main/CNN.ipynb\" target=\"_parent\"><img src=\"https://colab.research.google.com/assets/colab-badge.svg\" alt=\"Open In Colab\"/></a>"
      ]
    },
    {
      "cell_type": "code",
      "execution_count": null,
      "metadata": {
        "colab": {
          "base_uri": "https://localhost:8080/"
        },
        "collapsed": true,
        "id": "rJCFbEDJnS4C",
        "outputId": "8124b644-f290-4a9c-f0a8-ab2428258794"
      },
      "outputs": [
        {
          "output_type": "stream",
          "name": "stdout",
          "text": [
            "Requirement already satisfied: tensorflow in /usr/local/lib/python3.11/dist-packages (2.17.1)\n",
            "Requirement already satisfied: opencv-python in /usr/local/lib/python3.11/dist-packages (4.10.0.84)\n",
            "Requirement already satisfied: matplotlib in /usr/local/lib/python3.11/dist-packages (3.10.0)\n",
            "Requirement already satisfied: absl-py>=1.0.0 in /usr/local/lib/python3.11/dist-packages (from tensorflow) (1.4.0)\n",
            "Requirement already satisfied: astunparse>=1.6.0 in /usr/local/lib/python3.11/dist-packages (from tensorflow) (1.6.3)\n",
            "Requirement already satisfied: flatbuffers>=24.3.25 in /usr/local/lib/python3.11/dist-packages (from tensorflow) (24.12.23)\n",
            "Requirement already satisfied: gast!=0.5.0,!=0.5.1,!=0.5.2,>=0.2.1 in /usr/local/lib/python3.11/dist-packages (from tensorflow) (0.6.0)\n",
            "Requirement already satisfied: google-pasta>=0.1.1 in /usr/local/lib/python3.11/dist-packages (from tensorflow) (0.2.0)\n",
            "Requirement already satisfied: h5py>=3.10.0 in /usr/local/lib/python3.11/dist-packages (from tensorflow) (3.12.1)\n",
            "Requirement already satisfied: libclang>=13.0.0 in /usr/local/lib/python3.11/dist-packages (from tensorflow) (18.1.1)\n",
            "Requirement already satisfied: ml-dtypes<0.5.0,>=0.3.1 in /usr/local/lib/python3.11/dist-packages (from tensorflow) (0.4.1)\n",
            "Requirement already satisfied: opt-einsum>=2.3.2 in /usr/local/lib/python3.11/dist-packages (from tensorflow) (3.4.0)\n",
            "Requirement already satisfied: packaging in /usr/local/lib/python3.11/dist-packages (from tensorflow) (24.2)\n",
            "Requirement already satisfied: protobuf!=4.21.0,!=4.21.1,!=4.21.2,!=4.21.3,!=4.21.4,!=4.21.5,<5.0.0dev,>=3.20.3 in /usr/local/lib/python3.11/dist-packages (from tensorflow) (4.25.5)\n",
            "Requirement already satisfied: requests<3,>=2.21.0 in /usr/local/lib/python3.11/dist-packages (from tensorflow) (2.32.3)\n",
            "Requirement already satisfied: setuptools in /usr/local/lib/python3.11/dist-packages (from tensorflow) (75.1.0)\n",
            "Requirement already satisfied: six>=1.12.0 in /usr/local/lib/python3.11/dist-packages (from tensorflow) (1.17.0)\n",
            "Requirement already satisfied: termcolor>=1.1.0 in /usr/local/lib/python3.11/dist-packages (from tensorflow) (2.5.0)\n",
            "Requirement already satisfied: typing-extensions>=3.6.6 in /usr/local/lib/python3.11/dist-packages (from tensorflow) (4.12.2)\n",
            "Requirement already satisfied: wrapt>=1.11.0 in /usr/local/lib/python3.11/dist-packages (from tensorflow) (1.17.0)\n",
            "Requirement already satisfied: grpcio<2.0,>=1.24.3 in /usr/local/lib/python3.11/dist-packages (from tensorflow) (1.69.0)\n",
            "Requirement already satisfied: tensorboard<2.18,>=2.17 in /usr/local/lib/python3.11/dist-packages (from tensorflow) (2.17.1)\n",
            "Requirement already satisfied: keras>=3.2.0 in /usr/local/lib/python3.11/dist-packages (from tensorflow) (3.5.0)\n",
            "Requirement already satisfied: tensorflow-io-gcs-filesystem>=0.23.1 in /usr/local/lib/python3.11/dist-packages (from tensorflow) (0.37.1)\n",
            "Requirement already satisfied: numpy<2.0.0,>=1.23.5 in /usr/local/lib/python3.11/dist-packages (from tensorflow) (1.26.4)\n",
            "Requirement already satisfied: contourpy>=1.0.1 in /usr/local/lib/python3.11/dist-packages (from matplotlib) (1.3.1)\n",
            "Requirement already satisfied: cycler>=0.10 in /usr/local/lib/python3.11/dist-packages (from matplotlib) (0.12.1)\n",
            "Requirement already satisfied: fonttools>=4.22.0 in /usr/local/lib/python3.11/dist-packages (from matplotlib) (4.55.3)\n",
            "Requirement already satisfied: kiwisolver>=1.3.1 in /usr/local/lib/python3.11/dist-packages (from matplotlib) (1.4.8)\n",
            "Requirement already satisfied: pillow>=8 in /usr/local/lib/python3.11/dist-packages (from matplotlib) (11.1.0)\n",
            "Requirement already satisfied: pyparsing>=2.3.1 in /usr/local/lib/python3.11/dist-packages (from matplotlib) (3.2.1)\n",
            "Requirement already satisfied: python-dateutil>=2.7 in /usr/local/lib/python3.11/dist-packages (from matplotlib) (2.8.2)\n",
            "Requirement already satisfied: wheel<1.0,>=0.23.0 in /usr/local/lib/python3.11/dist-packages (from astunparse>=1.6.0->tensorflow) (0.45.1)\n",
            "Requirement already satisfied: rich in /usr/local/lib/python3.11/dist-packages (from keras>=3.2.0->tensorflow) (13.9.4)\n",
            "Requirement already satisfied: namex in /usr/local/lib/python3.11/dist-packages (from keras>=3.2.0->tensorflow) (0.0.8)\n",
            "Requirement already satisfied: optree in /usr/local/lib/python3.11/dist-packages (from keras>=3.2.0->tensorflow) (0.13.1)\n",
            "Requirement already satisfied: charset-normalizer<4,>=2 in /usr/local/lib/python3.11/dist-packages (from requests<3,>=2.21.0->tensorflow) (3.4.1)\n",
            "Requirement already satisfied: idna<4,>=2.5 in /usr/local/lib/python3.11/dist-packages (from requests<3,>=2.21.0->tensorflow) (3.10)\n",
            "Requirement already satisfied: urllib3<3,>=1.21.1 in /usr/local/lib/python3.11/dist-packages (from requests<3,>=2.21.0->tensorflow) (2.3.0)\n",
            "Requirement already satisfied: certifi>=2017.4.17 in /usr/local/lib/python3.11/dist-packages (from requests<3,>=2.21.0->tensorflow) (2024.12.14)\n",
            "Requirement already satisfied: markdown>=2.6.8 in /usr/local/lib/python3.11/dist-packages (from tensorboard<2.18,>=2.17->tensorflow) (3.7)\n",
            "Requirement already satisfied: tensorboard-data-server<0.8.0,>=0.7.0 in /usr/local/lib/python3.11/dist-packages (from tensorboard<2.18,>=2.17->tensorflow) (0.7.2)\n",
            "Requirement already satisfied: werkzeug>=1.0.1 in /usr/local/lib/python3.11/dist-packages (from tensorboard<2.18,>=2.17->tensorflow) (3.1.3)\n",
            "Requirement already satisfied: MarkupSafe>=2.1.1 in /usr/local/lib/python3.11/dist-packages (from werkzeug>=1.0.1->tensorboard<2.18,>=2.17->tensorflow) (3.0.2)\n",
            "Requirement already satisfied: markdown-it-py>=2.2.0 in /usr/local/lib/python3.11/dist-packages (from rich->keras>=3.2.0->tensorflow) (3.0.0)\n",
            "Requirement already satisfied: pygments<3.0.0,>=2.13.0 in /usr/local/lib/python3.11/dist-packages (from rich->keras>=3.2.0->tensorflow) (2.18.0)\n",
            "Requirement already satisfied: mdurl~=0.1 in /usr/local/lib/python3.11/dist-packages (from markdown-it-py>=2.2.0->rich->keras>=3.2.0->tensorflow) (0.1.2)\n"
          ]
        }
      ],
      "source": [
        "!pip install tensorflow opencv-python matplotlib"
      ]
    },
    {
      "cell_type": "code",
      "source": [
        "import tensorflow as tf\n",
        "import os"
      ],
      "metadata": {
        "id": "VZ6K5Jh_nbsg"
      },
      "execution_count": null,
      "outputs": []
    },
    {
      "cell_type": "code",
      "source": [
        "!kaggle datasets download -d salader/dogs-vs-cats"
      ],
      "metadata": {
        "id": "Vt2VDl1knp8V",
        "colab": {
          "base_uri": "https://localhost:8080/"
        },
        "outputId": "0db1b11e-57f2-44af-df6a-d35ac0f580d9"
      },
      "execution_count": null,
      "outputs": [
        {
          "output_type": "stream",
          "name": "stdout",
          "text": [
            "Dataset URL: https://www.kaggle.com/datasets/salader/dogs-vs-cats\n",
            "License(s): unknown\n",
            "dogs-vs-cats.zip: Skipping, found more recently modified local copy (use --force to force download)\n"
          ]
        }
      ]
    },
    {
      "cell_type": "code",
      "source": [
        "!unzip /content/dogs-vs-cats.zip -d /content/"
      ],
      "metadata": {
        "colab": {
          "base_uri": "https://localhost:8080/"
        },
        "collapsed": true,
        "id": "QOos3dmZu50N",
        "outputId": "2c07ff83-9d77-4cbb-e4ad-68b18ead26da"
      },
      "execution_count": null,
      "outputs": [
        {
          "metadata": {
            "tags": null
          },
          "name": "stdout",
          "output_type": "stream",
          "text": [
            "Archive:  /content/dogs-vs-cats.zip\n",
            "replace /content/dogs_vs_cats/test/cats/cat.10.jpg? [y]es, [n]o, [A]ll, [N]one, [r]ename: "
          ]
        }
      ]
    },
    {
      "cell_type": "code",
      "source": [
        "!pip install tensorflow numpy matplotlib"
      ],
      "metadata": {
        "collapsed": true,
        "id": "DGJZpZddzV5j"
      },
      "execution_count": null,
      "outputs": []
    },
    {
      "cell_type": "code",
      "source": [
        "!pip install pillow"
      ],
      "metadata": {
        "id": "Xg5O3BS90cnr"
      },
      "execution_count": null,
      "outputs": []
    },
    {
      "cell_type": "code",
      "source": [
        "import matplotlib.pyplot as plt\n",
        "from PIL import Image"
      ],
      "metadata": {
        "id": "hI117Xdr0JYV"
      },
      "execution_count": null,
      "outputs": []
    },
    {
      "cell_type": "code",
      "source": [
        "import random\n",
        "import os"
      ],
      "metadata": {
        "id": "ka5jZ5D80UrO"
      },
      "execution_count": null,
      "outputs": []
    },
    {
      "cell_type": "code",
      "source": [
        "!pip install keras"
      ],
      "metadata": {
        "collapsed": true,
        "id": "M9qCCRaT0pSO"
      },
      "execution_count": null,
      "outputs": []
    },
    {
      "cell_type": "code",
      "source": [
        "import tensorflow as tf\n",
        "from tensorflow.keras import layers, models\n",
        "import numpy as np\n",
        "import seaborn as sns\n",
        "from tensorflow.keras.preprocessing.image import img_to_array, load_img\n",
        "from sklearn.metrics import confusion_matrix, classification_report, roc_curve, auc\n",
        "from sklearn.model_selection import train_test_split\n",
        "from keras.utils import plot_model\n",
        "from tensorflow.keras.preprocessing.image import ImageDataGenerator"
      ],
      "metadata": {
        "id": "nnIoHbIA1SbF"
      },
      "execution_count": null,
      "outputs": []
    },
    {
      "cell_type": "code",
      "source": [
        "list_cats = ['/contents/dogs_vs_cats/train/cats/cat.0.jpg', '/content/dogs_vs_cats/train/cats/cat.1.jgp']"
      ],
      "metadata": {
        "id": "JQcP-iMK3B-w"
      },
      "execution_count": null,
      "outputs": []
    },
    {
      "cell_type": "code",
      "source": [
        "os.listdir('/content/dogs_vs_cats/train/dogs')"
      ],
      "metadata": {
        "collapsed": true,
        "id": "vESdsj0E3g1V"
      },
      "execution_count": null,
      "outputs": []
    },
    {
      "cell_type": "code",
      "source": [
        "random.sample(os.listdir('/content/dogs_vs_cats/train/dogs'), 5)"
      ],
      "metadata": {
        "id": "nHnIF6SX3q0O"
      },
      "execution_count": null,
      "outputs": []
    },
    {
      "cell_type": "code",
      "source": [
        "os.path.join(\"/content/dogs_vs_cats/train/cats/\", 'cat.0.jpg')"
      ],
      "metadata": {
        "id": "RC-ouPcG31aJ"
      },
      "execution_count": null,
      "outputs": []
    },
    {
      "cell_type": "code",
      "source": [
        "def plot_images_from_directory(directory_path, class_animal, num_images=9):\n",
        "    # Retrieve list of all file names in the directory\n",
        "    image_filenames = os.listdir(directory_path)\n",
        "\n",
        "    # If there are fewer images than requested, we'll just show them all\n",
        "    if len(image_filenames) < num_images:\n",
        "        print(f\"Only found {len(image_filenames)} images in {directory_path}, displaying them all.\")\n",
        "        num_images = len(image_filenames)\n",
        "\n",
        "    # Randomly select 'num_images' number of file names\n",
        "    selected_images = random.sample(image_filenames, num_images)\n",
        "\n",
        "    # Plotting the images\n",
        "    fig, axes = plt.subplots(3, 3, figsize=(8, 8))  # Adjust the size as needed\n",
        "    axes = axes.ravel()\n",
        "\n",
        "    for i, image_file in enumerate(selected_images):\n",
        "        image_path = os.path.join(directory_path, image_file)\n",
        "        image = Image.open(image_path)\n",
        "        axes[i].imshow(image)\n",
        "        axes[i].set_title(f\"Image: {class_animal}\")\n",
        "        axes[i].axis('off')  # Hide the axis\n",
        "\n",
        "    plt.tight_layout()\n",
        "    plt.show()"
      ],
      "metadata": {
        "id": "-kfJ5wzW33H1"
      },
      "execution_count": null,
      "outputs": []
    },
    {
      "cell_type": "code",
      "source": [
        "# Placeholder for the directory path\n",
        "cat_directory_path = '/content/dogs_vs_cats/train/cats'  # Replace with your directory path\n",
        "plot_images_from_directory(cat_directory_path, class_animal = 'Cat')"
      ],
      "metadata": {
        "id": "xeivdCpL37tL"
      },
      "execution_count": null,
      "outputs": []
    },
    {
      "cell_type": "code",
      "source": [
        "# Placeholder for the directory path\n",
        "dog_directory_path = '/content/dogs_vs_cats/train/dogs'  # Replace with your directory path\n",
        "plot_images_from_directory(dog_directory_path, class_animal = 'Dog')"
      ],
      "metadata": {
        "id": "NIlSQrdW39m5"
      },
      "execution_count": null,
      "outputs": []
    },
    {
      "cell_type": "code",
      "source": [
        "cat_images = os.listdir(cat_directory_path)\n",
        "dog_images = os.listdir(dog_directory_path)\n",
        "\n",
        "classes_animals = ['Cats', 'Dogs']\n",
        "count = [len(cat_images), len(dog_images)]\n",
        "\n",
        "print(count)"
      ],
      "metadata": {
        "id": "KYX3VSBF4AhT"
      },
      "execution_count": null,
      "outputs": []
    },
    {
      "cell_type": "code",
      "source": [
        "# Creating both a bar chart and a pie chart side by side in a single figure\n",
        "\n",
        "# Setting up a figure and axes for two subplots: one for the bar chart, one for the pie chart\n",
        "fig, ax = plt.subplots(1, 2, figsize=(15, 7))\n",
        "\n",
        "# Bar chart on the first subplot\n",
        "ax[0].bar(classes_animals, count, color=['blue', 'green'])\n",
        "ax[0].set_xlabel('Animal Class')\n",
        "ax[0].set_ylabel('Image Count')\n",
        "ax[0].set_title('Count of Cat and Dog Images')\n",
        "\n",
        "# Pie chart on the second subplot\n",
        "colors = ['#ff9999','#66b3ff']\n",
        "ax[1].pie(count, labels=classes_animals, colors=colors, autopct='%1.1f%%', startangle=90)\n",
        "ax[1].set_title('Distribution of Cat and Dog Images')\n",
        "ax[1].axis('equal')  # Equal aspect ratio ensures that pie is drawn as a circle.\n",
        "\n",
        "# Adjust the layout so that both subplots fit nicely\n",
        "plt.tight_layout()\n",
        "plt.show()\n"
      ],
      "metadata": {
        "id": "DUnxZ4mW4Fo9"
      },
      "execution_count": null,
      "outputs": []
    },
    {
      "cell_type": "code",
      "source": [
        "import os\n",
        "import cv2\n",
        "import imghdr\n",
        "\n",
        "# Define the list of acceptable image extensions\n",
        "image_exts = ['jpeg', 'jpg', 'png']\n",
        "\n",
        "# Path to the directory containing image classes and possibly other nested subdirectories\n",
        "data_dir = '/content/dogs_vs_cats'\n",
        "\n",
        "# Walk through all directories and files in the dataset\n",
        "for root, dirs, files in os.walk(data_dir):\n",
        "    for file in files:\n",
        "        # Construct the path to the current file\n",
        "        file_path = os.path.join(root, file)\n",
        "\n",
        "        try:\n",
        "            # Check the file type of the current file\n",
        "            file_type = imghdr.what(file_path)\n",
        "\n",
        "            # If the file extension is not in the allowed list, remove it\n",
        "            if file_type not in image_exts:\n",
        "                print(f'Image not in ext list {file_path}')\n",
        "                os.remove(file_path)\n",
        "            else:\n",
        "                # Proceed to process the image if needed, for example, reading it with OpenCV\n",
        "                img = cv2.imread(file_path)\n",
        "\n",
        "        except Exception as e:\n",
        "            # Print out the issue and the path of the problematic file\n",
        "            print(f'Issue with file {file_path}. Error: {e}')\n",
        "            # Optionally, remove files that cause exceptions\n",
        "            os.remove(file_path)"
      ],
      "metadata": {
        "id": "p-1f6ng34HA3"
      },
      "execution_count": null,
      "outputs": []
    },
    {
      "cell_type": "code",
      "source": [
        "import numpy as np\n",
        "from PIL import Image\n",
        "\n",
        "def image_to_array(image_path):\n",
        "    \"\"\"\n",
        "    Read an image and convert it to a numpy array.\n",
        "\n",
        "    Parameters:\n",
        "    image_path (str): The path to the image file.\n",
        "\n",
        "    Returns:\n",
        "    np.array: The image as a numpy array.\n",
        "    \"\"\"\n",
        "    try:\n",
        "        with Image.open(image_path) as img:\n",
        "            image_array = np.array(img)\n",
        "            return image_array\n",
        "    except IOError:\n",
        "        print(f\"Could not read the image file at {image_path}.\")\n",
        "        return None"
      ],
      "metadata": {
        "id": "LKVaT3324Iz2"
      },
      "execution_count": null,
      "outputs": []
    },
    {
      "cell_type": "code",
      "source": [
        "image_to_array('/content/dogs_vs_cats/train/dogs/dog.1000.jpg')"
      ],
      "metadata": {
        "id": "U6sc0Uiv4RoS"
      },
      "execution_count": null,
      "outputs": []
    },
    {
      "cell_type": "code",
      "source": [
        "image = '/content/dogs_vs_cats/train/dogs/dog.1000.jpg'\n",
        "\n",
        "import cv2\n",
        "\n",
        "img = cv2.imread(image)\n",
        "\n",
        "# If the image is loaded successfully, print its pixel values\n",
        "if img is not None:\n",
        "    print(img)\n",
        "    print(img.shape)\n",
        "else:\n",
        "    print(\"The image could not be loaded. Please check the path and file permissions.\")"
      ],
      "metadata": {
        "id": "GB6zreOb4T5_"
      },
      "execution_count": null,
      "outputs": []
    },
    {
      "cell_type": "code",
      "source": [
        "# Import necessary libraries\n",
        "import numpy as np\n",
        "from PIL import Image\n",
        "\n",
        "\n",
        "# Load the image with PIL and convert to a NumPy array\n",
        "img_pil = Image.open(image)\n",
        "img_array = np.array(img_pil)\n",
        "\n",
        "# Print the NumPy array of the image\n",
        "print(img_array)\n",
        "\n",
        "# Print the NumPy array of the image\n",
        "print(img_array.shape)"
      ],
      "metadata": {
        "id": "plJWPWN64VQt"
      },
      "execution_count": null,
      "outputs": []
    },
    {
      "cell_type": "code",
      "source": [
        "for i,j,k in os.walk('/content/dogs_vs_cats'):\n",
        "    print(i,j,k)"
      ],
      "metadata": {
        "id": "mCVIZ78I4ipE"
      },
      "execution_count": null,
      "outputs": []
    },
    {
      "cell_type": "code",
      "source": [
        "# Set path to the dataset\n",
        "base_dir = '/content/dogs_vs_cats/train'\n",
        "\n",
        "# All images will be rescaled by 1./255\n",
        "train_datagen = ImageDataGenerator(rescale=1./255, validation_split=0.2)"
      ],
      "metadata": {
        "id": "oHn6B_RT4kRp"
      },
      "execution_count": null,
      "outputs": []
    },
    {
      "cell_type": "code",
      "source": [
        " # Using 20% of data for validation\n",
        "train_generator = train_datagen.flow_from_directory(\n",
        "    base_dir,\n",
        "    target_size=(150, 150),  # Resizing images to 150x150\n",
        "    batch_size=20,\n",
        "    class_mode='binary',  # Since we use binary_crossentropy loss, we need binary labels\n",
        "    subset='training')  # Set as training data\n",
        "\n",
        "validation_generator = train_datagen.flow_from_directory(\n",
        "    base_dir,\n",
        "    target_size=(150, 150),\n",
        "    batch_size=20,\n",
        "    class_mode='binary',\n",
        "    subset='validation')  # Set as validation data"
      ],
      "metadata": {
        "id": "dg3yUuyW4lVw"
      },
      "execution_count": null,
      "outputs": []
    },
    {
      "cell_type": "code",
      "source": [
        "# Accessing class labels for the training data\n",
        "train_class_labels = train_generator.class_indices\n",
        "print(\"Training class labels:\", train_class_labels)\n",
        "\n",
        "# Accessing class labels for the validation data\n",
        "validation_class_labels = validation_generator.class_indices\n",
        "print(\"Validation class labels:\", validation_class_labels)"
      ],
      "metadata": {
        "id": "u2Aj9xet4m6v"
      },
      "execution_count": null,
      "outputs": []
    },
    {
      "cell_type": "code",
      "source": [
        "images, labels = next(train_generator)\n",
        "images, labels"
      ],
      "metadata": {
        "collapsed": true,
        "id": "wFp2ysSZ4oC1"
      },
      "execution_count": null,
      "outputs": []
    },
    {
      "cell_type": "code",
      "source": [
        "import matplotlib.pyplot as plt\n",
        "\n",
        "# Function to plot images and their labels\n",
        "def plot_images_from_generator(generator, num_images=4):\n",
        "    # Get a batch of images and labels from the generator\n",
        "    images, labels = next(generator)\n",
        "\n",
        "    # Set up the plot\n",
        "    fig, axes = plt.subplots(1, num_images, figsize=(20,20))\n",
        "    axes = axes.flatten()\n",
        "\n",
        "    for img, label, ax in zip(images, labels, axes):\n",
        "        # Image preprocessing might differ, adjust accordingly\n",
        "        ax.imshow(img)\n",
        "        # Set the title to the class label\n",
        "        # Inverse the class indices dictionary to get class names from labels\n",
        "        class_labels = dict((v,k) for k,v in generator.class_indices.items())\n",
        "        ax.set_title(class_labels[int(label)])\n",
        "        ax.axis('off')\n",
        "    plt.tight_layout()\n",
        "    plt.show()\n",
        "\n",
        "# Now, call this function with your training generator\n",
        "plot_images_from_generator(train_generator, num_images=4)"
      ],
      "metadata": {
        "id": "HzBorZm24pIK"
      },
      "execution_count": null,
      "outputs": []
    },
    {
      "cell_type": "code",
      "source": [
        "model = models.Sequential([\n",
        "    layers.Conv2D(32, (3, 3), activation='relu', input_shape=(150, 150, 3)),\n",
        "    layers.MaxPooling2D(2, 2),\n",
        "    layers.Conv2D(64, (3, 3), activation='relu'),\n",
        "    layers.MaxPooling2D(2, 2),\n",
        "    layers.Conv2D(128, (3, 3), activation='relu'),\n",
        "    layers.MaxPooling2D(2, 2),\n",
        "    layers.Conv2D(128, (3, 3), activation='relu'),\n",
        "    layers.MaxPooling2D(2, 2),\n",
        "    layers.Flatten(),\n",
        "    layers.Dense(512, activation='relu'),\n",
        "    layers.Dense(1, activation='sigmoid')  # Sigmoid activation for binary classification\n",
        "])\n",
        "\n",
        "model.summary()"
      ],
      "metadata": {
        "id": "pauoZwrW4rwD"
      },
      "execution_count": null,
      "outputs": []
    },
    {
      "cell_type": "code",
      "source": [
        "plot_model(model, to_file = 'Architecture.png',\n",
        "           show_shapes=True, show_layer_names=True)"
      ],
      "metadata": {
        "id": "BuQB7UYE4tgO"
      },
      "execution_count": null,
      "outputs": []
    },
    {
      "cell_type": "code",
      "source": [
        "model.compile(loss='binary_crossentropy',\n",
        "              optimizer='adam',\n",
        "              metrics=['accuracy'])"
      ],
      "metadata": {
        "id": "xx5p51T54vnm"
      },
      "execution_count": null,
      "outputs": []
    },
    {
      "cell_type": "code",
      "source": [
        "batch = 20\n",
        "train_steps = np.ceil(train_generator.samples / batch)\n",
        "validation_steps_per_epoch = np.ceil(validation_generator.samples / batch)\n",
        "print(train_steps, validation_steps_per_epoch)"
      ],
      "metadata": {
        "id": "gwc7sJZ-4ySZ"
      },
      "execution_count": null,
      "outputs": []
    },
    {
      "cell_type": "code",
      "source": [
        "history = model.fit(\n",
        "                    train_generator,\n",
        "                    steps_per_epoch=800,\n",
        "                    epochs=10,\n",
        "                    validation_data=validation_generator,\n",
        "                    validation_steps=200)"
      ],
      "metadata": {
        "id": "3PUv058l4z2f"
      },
      "execution_count": null,
      "outputs": []
    },
    {
      "cell_type": "code",
      "source": [
        "history"
      ],
      "metadata": {
        "id": "CJSHyN-q41V-"
      },
      "execution_count": null,
      "outputs": []
    },
    {
      "cell_type": "code",
      "source": [
        "history.history"
      ],
      "metadata": {
        "id": "a3Ibjnro43d7"
      },
      "execution_count": null,
      "outputs": []
    },
    {
      "cell_type": "code",
      "source": [
        "acc = history.history['accuracy']\n",
        "val_acc = history.history['val_accuracy']\n",
        "loss = history.history['loss']\n",
        "val_loss = history.history['val_loss']\n",
        "\n",
        "epochs_range = range(len(acc))\n",
        "\n",
        "plt.figure(figsize=(20, 5))\n",
        "plt.subplot(1, 2, 1)\n",
        "plt.plot(epochs_range, acc, label='Training Accuracy')\n",
        "plt.plot(epochs_range[:5], val_acc, label='Validation Accuracy')\n",
        "plt.legend(loc='lower right')\n",
        "plt.title('Training and Validation Accuracy')\n",
        "\n",
        "plt.subplot(1, 2, 2)\n",
        "plt.plot(epochs_range, loss, label='Training Loss')\n",
        "plt.plot(epochs_range[:5], val_loss, label='Validation Loss')\n",
        "plt.legend(loc='upper right')\n",
        "plt.title('Training and Validation Loss')\n",
        "plt.show()"
      ],
      "metadata": {
        "id": "Bzk4sWKZ45Ez"
      },
      "execution_count": null,
      "outputs": []
    },
    {
      "cell_type": "code",
      "source": [
        "test_datagen = ImageDataGenerator(rescale=1./255)  # Only rescaling for test data\n",
        "\n",
        "test_dir = '/content/dogs_vs_cats/test'  # Path to your test directory\n",
        "\n",
        "test_generator = test_datagen.flow_from_directory(\n",
        "    test_dir,\n",
        "    target_size=(150, 150),  # Should match the input size of your network\n",
        "    batch_size=20,  # Can adjust based on your memory constraints\n",
        "    class_mode='binary',  # Since we use binary_crossentropy loss, we need binary labels\n",
        "    shuffle=False)  # No need to shuffle test data"
      ],
      "metadata": {
        "id": "yz9D9-mC46QI"
      },
      "execution_count": null,
      "outputs": []
    },
    {
      "cell_type": "code",
      "source": [
        "np.ceil(test_generator.samples/test_generator.batch_size)"
      ],
      "metadata": {
        "id": "PJLKlUl847l0"
      },
      "execution_count": null,
      "outputs": []
    },
    {
      "cell_type": "code",
      "source": [
        "steps = int(np.ceil(test_generator.samples / test_generator.batch_size))\n",
        "probabilities = model.predict(test_generator, steps=steps)\n",
        "probabilities"
      ],
      "metadata": {
        "id": "LBoR8rXz48qH"
      },
      "execution_count": null,
      "outputs": []
    },
    {
      "cell_type": "code",
      "source": [
        "# Reset the test generator\n",
        "test_generator.reset()\n",
        "\n",
        "# Get the true labels\n",
        "true_classes = test_generator.classes\n",
        "\n",
        "# Predict probabilities for the positive class\n",
        "steps = int(np.ceil(test_generator.samples / test_generator.batch_size))  # Ensure 'steps' is an integer\n",
        "probabilities = model.predict(test_generator, steps=steps)\n",
        "\n",
        "# The output is the probability of the positive class,\n",
        "# so we will threshold it at 0.5 to decide the predicted class\n",
        "predicted_classes = (probabilities > 0.5).astype(int).squeeze()\n",
        "\n",
        "# Class labels are just [0, 1] for binary classification, or you can use custom labels if you have them\n",
        "class_labels = list(test_generator.class_indices.keys())\n",
        "predicted_classes\n"
      ],
      "metadata": {
        "id": "QE6qMi6y49tW"
      },
      "execution_count": null,
      "outputs": []
    },
    {
      "cell_type": "code",
      "source": [
        "# Generate the confusion matrix\n",
        "cm = confusion_matrix(true_classes, predicted_classes)\n",
        "\n",
        "# Plotting with seaborn\n",
        "plt.figure(figsize=(10, 8))\n",
        "sns.heatmap(cm, annot=True, fmt=\"d\", cmap=\"Blues\", xticklabels=class_labels, yticklabels=class_labels)\n",
        "plt.title('Confusion Matrix')\n",
        "plt.ylabel('True label')\n",
        "plt.xlabel('Predicted label')\n",
        "plt.show()"
      ],
      "metadata": {
        "id": "SJM7WOgC4-oD"
      },
      "execution_count": null,
      "outputs": []
    },
    {
      "cell_type": "code",
      "source": [
        "loss, accuracy = model.evaluate(test_generator)\n",
        "print(f\"Test accuracy: {accuracy*100:.2f}%\")\n",
        "print(f\"Test loss: {loss:.2f}\")"
      ],
      "metadata": {
        "id": "Gqy4q4914_oR"
      },
      "execution_count": null,
      "outputs": []
    },
    {
      "cell_type": "code",
      "source": [
        "def make_prediction(image_path):\n",
        "    img = load_img(img_path, target_size=(150, 150))  # Resizing the image\n",
        "    img_array = img_to_array(img)  # Converting to array\n",
        "    img_array = np.expand_dims(img_array, axis=0)  # Add batch dimension\n",
        "    img_array /= 255.  # Rescale the image similarly as we did for the training data\n",
        "\n",
        "    prediction = model.predict(img_array)\n",
        "    print(\"Prediction:\", prediction)\n",
        "\n",
        "    # Original image\n",
        "    plt.subplot(1, 2, 1)\n",
        "    plt.imshow(img)\n",
        "    plt.title('Original Image')\n",
        "    plt.axis('off')\n",
        "\n",
        "    # Prediction\n",
        "    plt.subplot(1, 2, 2)\n",
        "    if prediction[0][0] > 0.5:\n",
        "        plt.title('Predicted: Dog')\n",
        "    else:\n",
        "        plt.title('Predicted: Cat')\n",
        "    plt.imshow(img)  # Show the same image as prediction\n",
        "    plt.axis('off')\n",
        "\n",
        "    plt.show()"
      ],
      "metadata": {
        "id": "tR889Qwq5BD_"
      },
      "execution_count": null,
      "outputs": []
    },
    {
      "cell_type": "code",
      "source": [
        "# Load and preprocess the image\n",
        "img_path = '/content/download.jpeg'\n",
        "make_prediction(img_path)"
      ],
      "metadata": {
        "id": "3z5cp1UT5CHl"
      },
      "execution_count": null,
      "outputs": []
    },
    {
      "cell_type": "code",
      "source": [
        "# Load and preprocess the image\n",
        "img_path = '/content/dogs_vs_cats/test/dogs/dog.100.jpg'\n",
        "make_prediction(img_path)"
      ],
      "metadata": {
        "id": "BdoLRZLf5DS2"
      },
      "execution_count": null,
      "outputs": []
    },
    {
      "cell_type": "code",
      "source": [
        "# Reset the test_generator before making predictions\n",
        "test_generator.reset()\n",
        "\n",
        "# Predict the whole test set\n",
        "predictions = model.predict(test_generator, verbose=1)\n",
        "\n",
        "# The predictions will be in the format of probabilities. You'll need to convert these to binary labels (0 or 1) based on a 0.5 threshold.\n",
        "predicted_classes = (predictions > 0.5).astype(int).reshape(-1)\n",
        "true_classes = test_generator.classes\n",
        "misclassified_indices = np.where(predicted_classes != true_classes)[0]\n",
        "misclassified_count = len(misclassified_indices)\n",
        "print(f\"Total misclassifications in the test set: {misclassified_count} out of {len(true_classes)}\")"
      ],
      "metadata": {
        "id": "MJwSc5p75FIL"
      },
      "execution_count": null,
      "outputs": []
    },
    {
      "cell_type": "code",
      "source": [
        "# Generate predictions for all test images\n",
        "predictions = model.predict(test_generator)\n",
        "# Convert predictions to binary (0 or 1) based on a 0.5 threshold\n",
        "predicted_classes = predictions > 0.5\n",
        "\n",
        "# Retrieve the true labels from the generator\n",
        "true_classes = test_generator.classes\n",
        "\n",
        "# Filenames can also be useful for debugging\n",
        "filenames = test_generator.filenames\n",
        "# Identifying indices of misclassified images\n",
        "misclassified_indices = np.where(predicted_classes.flatten() != true_classes)[0]\n",
        "\n",
        "print(f\"Total misclassifications: {len(misclassified_indices)}\")\n",
        "\n",
        "\n",
        "# Select a random subset of misclassified images\n",
        "num_samples_to_display = 4\n",
        "random_indices = random.sample(list(misclassified_indices), num_samples_to_display)\n",
        "\n",
        "# Plot\n",
        "plt.figure(figsize=(10, 10))\n",
        "for i, index in enumerate(random_indices, 1):\n",
        "    # Load image\n",
        "    img_path = test_dir + '/' + filenames[index]\n",
        "    img = load_img(img_path, target_size=(150, 150))\n",
        "\n",
        "    # Predicted class\n",
        "    predicted_class = \"Dog\" if predicted_classes[index] else \"Cat\"\n",
        "\n",
        "    # Display\n",
        "    plt.subplot(2, 2, i)\n",
        "    plt.imshow(img)\n",
        "    plt.title(f\"Predicted: {predicted_class}\")\n",
        "    plt.axis('off')\n",
        "plt.show()"
      ],
      "metadata": {
        "id": "nWjMejJR5GVB"
      },
      "execution_count": null,
      "outputs": []
    },
    {
      "cell_type": "code",
      "source": [
        "# Get all the layers in which conv is present.\n",
        "\n",
        "for i in range(len(model.layers)):\n",
        "\t# check for convolutional layer\n",
        "\tif 'conv' not in model.layers[i].name:\n",
        "\t\tcontinue\n",
        "\t# get filter weights\n",
        "\tfilters, biases = model.layers[i].get_weights()\n",
        "\tprint(\"layer number\",i,model.layers[i].name, filters.shape)"
      ],
      "metadata": {
        "id": "YhGjTbmj5HS_"
      },
      "execution_count": null,
      "outputs": []
    },
    {
      "cell_type": "code",
      "source": [
        "# retrieve weights from the second hidden layer\n",
        "filters , bias = model.layers[2].get_weights()"
      ],
      "metadata": {
        "id": "IpvoTEwv5Iw3"
      },
      "execution_count": null,
      "outputs": []
    },
    {
      "cell_type": "code",
      "source": [
        "# normalize filter values to 0-1 so we can visualize them\n",
        "f_min, f_max = filters.min(), filters.max()\n",
        "filters = (filters - f_min) / (f_max - f_min)"
      ],
      "metadata": {
        "id": "N6-pP9W75J2a"
      },
      "execution_count": null,
      "outputs": []
    },
    {
      "cell_type": "code",
      "source": [
        "n_filters=6\n",
        "ix=1\n",
        "fig = plt.figure(figsize=(15,10))\n",
        "for i in range(n_filters):\n",
        "    # get the filters\n",
        "    f = filters[:,:,:,i]\n",
        "    for j in range(3):\n",
        "        # subplot for 6 filters and 3 channels\n",
        "        plt.subplot(n_filters,3,ix)\n",
        "        plt.imshow(f[:,:,j] ,cmap='gray')\n",
        "        ix+=1\n",
        "#plot the filters\n",
        "plt.show()"
      ],
      "metadata": {
        "id": "kvM3S-Ur5K6S"
      },
      "execution_count": null,
      "outputs": []
    },
    {
      "cell_type": "code",
      "source": [
        "import numpy as np\n",
        "import matplotlib.pyplot as plt\n",
        "from tensorflow.keras.preprocessing.image import load_img, img_to_array\n",
        "import tensorflow as tf\n",
        "\n",
        "# Assuming 'model' is your pre-trained CNN model\n",
        "model2 = tf.keras.Model(inputs=model.inputs, outputs=model.layers[1].output)\n",
        "\n",
        "# Load and preprocess the image\n",
        "image = load_img(\"/content/dogs_vs_cats/train/cats/cat.100.jpg\", target_size=(150, 150))\n",
        "image = img_to_array(image)\n",
        "image = np.expand_dims(image, axis=0)\n",
        "image /= 255.0\n",
        "\n",
        "# Predicting using model2 to get the features from the desired layer\n",
        "features = model2.predict(image)\n",
        "\n",
        "# Calculate the number of grids dynamically\n",
        "num_feature_maps = features.shape[-1]\n",
        "num_cols = 8  # You can adjust this number based on your preference\n",
        "num_rows = num_feature_maps // num_cols + (1 if num_feature_maps % num_cols else 0)\n",
        "\n",
        "fig = plt.figure(figsize=(20, 15))\n",
        "for i in range(1, num_feature_maps + 1):\n",
        "    ax = fig.add_subplot(num_rows, num_cols, i)\n",
        "    ax.imshow(features[0, :, :, i-1], cmap='gray')\n",
        "    plt.axis('off')\n",
        "\n",
        "plt.tight_layout()\n",
        "plt.show()"
      ],
      "metadata": {
        "id": "C-ToFLTL5L0e"
      },
      "execution_count": null,
      "outputs": []
    },
    {
      "cell_type": "code",
      "source": [],
      "metadata": {
        "id": "MxOkgXca5NDR"
      },
      "execution_count": null,
      "outputs": []
    }
  ]
}